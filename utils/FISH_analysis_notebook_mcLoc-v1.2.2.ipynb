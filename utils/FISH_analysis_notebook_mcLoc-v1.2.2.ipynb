{
 "cells": [
  {
   "cell_type": "markdown",
   "metadata": {},
   "source": [
    "# Analysis of a multi-channel FISH dataset\n",
    "Last update: 2022-03-11<br>\n",
    "version 1.2.3\n",
    "\n",
    "Code under GNU General Public License v3 (see `LICENSE` file). <br>\n",
    "Contact: A. Coulon antoine.coulon@curie.fr – Institut Curie, CNRS. 2022"
   ]
  },
  {
   "cell_type": "code",
   "execution_count": null,
   "metadata": {
    "scrolled": true
   },
   "outputs": [],
   "source": [
    "###########\n",
    "dirSrc='/Users/acoulon/res/dev/FISH_analysis/'\n",
    "###########\n",
    "\n",
    "from scipy import *\n",
    "from matplotlib import pyplot as plt\n",
    "import os, sys\n",
    "sys.path.append(dirSrc); import locFiles as lf\n",
    "import pickle\n",
    "\n",
    "dataSetName=os.path.basename(os.getcwd())\n",
    "print(\"\\nDataset: %s\"%lf.toBold(dataSetName))"
   ]
  },
  {
   "cell_type": "markdown",
   "metadata": {},
   "source": [
    "## Load data and make list of loci"
   ]
  },
  {
   "cell_type": "code",
   "execution_count": null,
   "metadata": {},
   "outputs": [],
   "source": [
    "#### Load data ####\n",
    "\n",
    "CCMs=lf.imp.load_source('m', 'chromaticCorr_20210104.py').chromaticCorrMatrices['microscope2_60x_dz0.3um']\n",
    "\n",
    "lData,cellIds=lf.filterLoc2(\n",
    "    (lf.loadLoc2('out/'+dataSetName+'_FAM.loc2',    name='Locus',   unit='a.u.',             cutoffLow=3.8e5, chromaticCorrM=CCMs['GFP => o5-Q570'],       color='c'),\n",
    "     lf.loadLoc2('out/'+dataSetName+'_CAL610.loc2', name='FOS',     unit='RNAs', norm=4.0e4, cutoffLow=.6,    chromaticCorrM=CCMs['o5-CAL610 => o5-Q570'], color='orange'),\n",
    "     lf.loadLoc2('out/'+dataSetName+'_Q670.loc2',   name='JDP2',    unit='RNAs', norm=3.5e4, cutoffLow=.7,    chromaticCorrM=CCMs['o5-Q670 => o5-Q570'],   color='r'),\n",
    "     lf.loadLoc2('out/'+dataSetName+'_Q570.loc2',   name='BATF',    unit='RNAs', norm=5.0e4, cutoffLow=.6,    chromaticCorrM=CCMs['o5-Q570 => o5-Q570'],   color='g'),\n",
    "     lf.loadLoc2('out/'+dataSetName+'_AF750.loc2',  name='coreDel', unit='a.u.',                              chromaticCorrM=CCMs['o5-AF750 => o5-Q570'],  color='k')),\n",
    "    incl='out/'+dataSetName+'_segmented_nuclei_curated.cellIds',\n",
    "    excl='out/'+dataSetName+'_segmented_nuclei_excluded.cellIds'\n",
    ")\n",
    "\n",
    "mcLocus=lf.mcLoc(lData, cellIds,\n",
    "                 voxelSize=r_[0.1075, 0.1075, 0.3],\n",
    "                 nuclei_csv='out/'+dataSetName+'_segmented_nuclei.csv');\n"
   ]
  },
  {
   "cell_type": "markdown",
   "metadata": {},
   "source": [
    "<a id='add_neg_shuff_BACK'></a>\n",
    "__OPTIONAL:__ If using this dataset as a WT control for the deletion spots, go to section \"[Add 'negative shuffled' channel](#add_neg_shuff)\" and then come back here."
   ]
  },
  {
   "cell_type": "code",
   "execution_count": null,
   "metadata": {},
   "outputs": [],
   "source": [
    "## Calculate pairwise distances\n",
    "mcLocus.calcDist([[0,0],[0,1],[0,2],[0,3],[0,4],]); #[0,5]]);\n"
   ]
  },
  {
   "cell_type": "code",
   "execution_count": null,
   "metadata": {},
   "outputs": [],
   "source": [
    "#### Choose distance threshold ####\n",
    "dThr=1.3\n",
    "###\n",
    "\n",
    "mcLocus.showDist(0,0,dThr=dThr)\n",
    "mcLocus.showDist(0,1,dThr=dThr)\n",
    "mcLocus.showDist(0,2,dThr=dThr)\n",
    "mcLocus.showDist(0,3,dThr=dThr)\n",
    "mcLocus.showDist(0,4,dThr=dThr)\n"
   ]
  },
  {
   "cell_type": "code",
   "execution_count": null,
   "metadata": {},
   "outputs": [],
   "source": [
    "## Assign spots in all channels to a locus spot\n",
    "mcLocus.listLociInCells(0,dThr=dThr,method='brightest')\n"
   ]
  },
  {
   "cell_type": "markdown",
   "metadata": {},
   "source": [
    "-----"
   ]
  },
  {
   "cell_type": "markdown",
   "metadata": {},
   "source": [
    "## Count unpaired spots (e.g. mRNAs) in cells\n",
    "If your dataset includes smRNA FISH channels, use this to calculate the number of (non nascent) mRNA in each cell."
   ]
  },
  {
   "cell_type": "code",
   "execution_count": null,
   "metadata": {},
   "outputs": [],
   "source": [
    "#### Number of unpaired spots ####\n",
    "cellIdsOfUnpairedSpots=[mcLocus.listSpots_pairedAndUnpaired(c)[3][:,-1].astype(int)\n",
    "                                                                 for c in range(mcLocus.nCh)] \n",
    "mcLocus.spotsInCells_unpaired={cId: [int((cId==a).sum()) for a in cellIdsOfUnpairedSpots]\n",
    "                                                   for cId,ll in mcLocus.lociInCells.items()}\n",
    "\n",
    "#### Number of spots that are far from a locus ####\n",
    "cellIdsOfFarSpots=[mcLocus.listSpots_nearAndFar(cRef=0,c=c,dThr=dThr)[3][:,-1].astype(int)\n",
    "                                                               for c in range(mcLocus.nCh)]\n",
    "mcLocus.spotsInCells_far={cId: [int((cId==a).sum()) for a in cellIdsOfFarSpots]\n",
    "                                                   for cId,ll in mcLocus.lociInCells.items()}\n"
   ]
  },
  {
   "cell_type": "markdown",
   "metadata": {},
   "source": [
    "----"
   ]
  },
  {
   "cell_type": "markdown",
   "metadata": {},
   "source": [
    "## Save `mcLoc` object to be used in other notebooks"
   ]
  },
  {
   "cell_type": "code",
   "execution_count": null,
   "metadata": {},
   "outputs": [],
   "source": [
    "## Save object using pickle\n",
    "pickle.dump(mcLocus, open('out/'+dataSetName+'_mcLoc.pickle', 'wb'))\n"
   ]
  },
  {
   "cell_type": "markdown",
   "metadata": {},
   "source": [
    "----\n",
    "----"
   ]
  },
  {
   "cell_type": "markdown",
   "metadata": {},
   "source": [
    "## Misc plots"
   ]
  },
  {
   "cell_type": "code",
   "execution_count": null,
   "metadata": {},
   "outputs": [],
   "source": [
    "#### Number of loci per cell ####\n",
    "\n",
    "nbLociPerCell=[len(ll) for cId,ll in mcLocus.lociInCells.items()]\n",
    "\n",
    "#dThrBwLoci=1.\n",
    "#locusSpotsInCells={cId:list(set(dist[0,0][:,3].astype(int)) - set((dist[0,0][dist[0,0][:,0]<dThrBwLoci,3]).astype(int))) for cId,dist in mcLocus.distInCells.items()}\n",
    "#nbLociPerCell=[len(ll) for cId,ll in locusSpotsInCells.items()]\n",
    "\n",
    "plt.figure()\n",
    "plt.hist(nbLociPerCell,bins=r_[:30]-.5)\n",
    "plt.xlabel('Number of loci per cell'); plt.ylabel('Counts')\n",
    "plt.xlim(-.5,16.5)\n",
    "plt.show()"
   ]
  },
  {
   "cell_type": "code",
   "execution_count": null,
   "metadata": {},
   "outputs": [],
   "source": [
    "toPlot=array([[cId, len(mcLocus.lociInCells[cId]), area, mean-min, std, a, b]\n",
    "                  for cId,area,mean,min,std,a,b in mcLocus.nuclei_csv.loc[:,['cellIds','Area','Mean','Min','StdDev','Skew','Kurt']].to_numpy()\n",
    "                      if cId in mcLocus.lociInCells])\n",
    "#toPlot=toPlot[toPlot[:,1]<=8]\n",
    "\n",
    "plt.figure()\n",
    "plt.scatter(toPlot[:,1]+(rand(toPlot.shape[0])-.5)*.8,toPlot[:,2]*prod(mcLocus.voxelSize[:2]),alpha=.1,s=15)\n",
    "plt.xlabel('Number of alleles'); plt.ylabel('Nuclear area (µm$^2$)');\n",
    "plt.xlim(0,20);\n",
    "plt.ylim(0,400);\n",
    "plt.show()\n"
   ]
  },
  {
   "cell_type": "code",
   "execution_count": null,
   "metadata": {},
   "outputs": [],
   "source": [
    "for d in mcLocus.lData[:-1]:\n",
    "    print(lf.toBold(d.name))\n",
    "    d.showFrameAndPositionBiases()\n",
    "    "
   ]
  },
  {
   "cell_type": "code",
   "execution_count": null,
   "metadata": {},
   "outputs": [],
   "source": [
    "#### Instensity distribution of spots that are –or not– associated with a locus spot\n",
    "\n",
    "### Choose channel\n",
    "c=4;\n",
    "###\n",
    "\n",
    "plt.figure(); plt.title(mcLocus.lData[c].name)\n",
    "\n",
    "plt.hist(mcLocus.lData[c][:,0],                              label='All',      bins=mcLocus.lData[c].binsLog, histtype='step', color='gray')\n",
    "plt.hist(mcLocus.listSpots_pairedAndUnpaired(c)[2][:,0],     label='Paired',   bins=mcLocus.lData[c].binsLog, histtype='step', color='C1')\n",
    "#plt.hist(mcLocus.listSpots_pairedAndUnpaired(c)[3][:,0],     label='Unpaired', bins=mcLocus.lData[c].binsLog, histtype='step', color='C0', ls=':')\n",
    "#plt.hist(mcLocus.listSpots_nearAndFar(0,c,dThr=1.3)[2][:,0], label='Near',     bins=mcLocus.lData[c].binsLog, histtype='step', color='C1', ls=':')\n",
    "plt.hist(mcLocus.listSpots_nearAndFar(0,c,dThr=1.3)[3][:,0], label='Far',      bins=mcLocus.lData[c].binsLog, histtype='step', color='C0')\n",
    "\n",
    "plt.xlabel('Fluo. intensity (%s)'%(mcLocus.lData[c].unit)); plt.ylabel('Counts'); plt.legend()\n",
    "plt.xscale('log');\n",
    "\n",
    "### Adjust plot\n",
    "plt.yscale('log');\n",
    "#plt.xlim(.5,None)\n",
    "###\n",
    "plt.show()"
   ]
  },
  {
   "cell_type": "code",
   "execution_count": null,
   "metadata": {},
   "outputs": [],
   "source": []
  },
  {
   "cell_type": "code",
   "execution_count": null,
   "metadata": {},
   "outputs": [],
   "source": [
    "#### Separation plot for a single channel\n",
    "\n",
    "### Choose channel\n",
    "c=4;\n",
    "###\n",
    "\n",
    "d=mcLocus.lData[c]\n",
    "#d=lf.loadLoc2(mcLocus.lData[c].fn, name=mcLocus.lData[c].name, color=mcLocus.lData[c].color)\n",
    "\n",
    "lf.evalSingleFluoDistr(d);\n"
   ]
  },
  {
   "cell_type": "code",
   "execution_count": null,
   "metadata": {},
   "outputs": [],
   "source": [
    "#### Separation plot for known positive and negative distributions\n",
    "\n",
    "lf.evalPositiveAndNegativeFluoDistr(mcLocus.listSpots_pairedAndUnpaired(4)[2],\n",
    "                                    mcLocus.listSpots_pairedAndUnpaired(5)[2],\n",
    "                                    fracSignalSpots=0.4);\n"
   ]
  },
  {
   "cell_type": "code",
   "execution_count": null,
   "metadata": {},
   "outputs": [],
   "source": []
  },
  {
   "cell_type": "code",
   "execution_count": null,
   "metadata": {},
   "outputs": [],
   "source": [
    "[cId for cId,ll in mcLocus.lociInCells.items()\n",
    " if 4<=len(ll)<=6\n",
    " and 4<=sum(array(ll)[1:4,0]>0)<=6\n",
    " and 4<=mcLocus.spotsInCells_far[cId][1]<=10\n",
    " and 4<=mcLocus.spotsInCells_far[cId][2]<=10\n",
    " and 4<=mcLocus.spotsInCells_far[cId][3]<=10]\n"
   ]
  },
  {
   "cell_type": "markdown",
   "metadata": {},
   "source": [
    "----\n",
    "----"
   ]
  },
  {
   "cell_type": "markdown",
   "metadata": {},
   "source": [
    "## Add 'negative shuffled' channel<a id='add_neg_shuff'></a>"
   ]
  },
  {
   "cell_type": "code",
   "execution_count": null,
   "metadata": {},
   "outputs": [],
   "source": [
    "#### Choose distance threshold ####\n",
    "dThr=1.3\n",
    "###\n",
    "\n",
    "mcLocus.calcDist([[0,0],[0,4],[4,4]]);\n",
    "\n",
    "mcLocus.showDist(0,0,dThr=dThr)\n",
    "mcLocus.showDist(0,4,dThr=dThr)\n",
    "mcLocus.showDist(4,4,dThr=0.25)\n"
   ]
  },
  {
   "cell_type": "code",
   "execution_count": null,
   "metadata": {
    "scrolled": true
   },
   "outputs": [],
   "source": [
    "#### Pair deletion spots with loci ####\n",
    "\n",
    "mcLocus.listLociInCells(cRef=0,lCh=[4],dThr=dThr,method='brightest')\n"
   ]
  },
  {
   "cell_type": "code",
   "execution_count": null,
   "metadata": {},
   "outputs": [],
   "source": [
    "#### Make 'negative shuffled' channel from the deletion channel ####\n",
    "\n",
    "spots_unpaired=mcLocus.listSpots_pairedAndUnpaired(c=4)[3]\n",
    "spots_far     =mcLocus.listSpots_nearAndFar(cRef=0,c=4,dThr=1.3)[3]\n",
    "\n",
    "negShuff=mcLocus.lData[-1].makecopy(); negShuff.name+=' neg. shuff.'; negShuff.color='gray'\n",
    "negShuff.resize(spots_unpaired.shape,refcheck=False)\n",
    "negShuff[:,1:]=spots_unpaired[:,1:]\n",
    "negShuff[:,0] =spots_far[random.randint(0,spots_far.shape[0],spots_unpaired.shape[0]),0]\n",
    "negShuff.show()\n",
    "\n",
    "mcLocus=lf.mcLoc(mcLocus.lData+[negShuff], mcLocus.cellIds, voxelSize=mcLocus.voxelSize, nuclei_csv=mcLocus.nuclei_csv);\n"
   ]
  },
  {
   "cell_type": "markdown",
   "metadata": {},
   "source": [
    "[Go back](#add_neg_shuff_BACK)"
   ]
  },
  {
   "cell_type": "markdown",
   "metadata": {},
   "source": [
    "----\n",
    "----"
   ]
  },
  {
   "cell_type": "markdown",
   "metadata": {},
   "source": [
    "## Inspect localizations on images with `inspectLoc()`"
   ]
  },
  {
   "cell_type": "code",
   "execution_count": null,
   "metadata": {},
   "outputs": [],
   "source": [
    "\n",
    "lf.inspectLoc(cellId=[2,3,4,34],loc=[mcLocus.listSpots_pairedAndUnpaired(c=2)[2],\n",
    "                                     mcLocus.listSpots_nearAndFar(cRef=0,c=2,dThr=1.3)[3]],\n",
    "                                                                          locVal=0,maxProj=1,\n",
    "              rawCCMs=[CCMs['o5-AF750 => o5-Q570'], CCMs['o5-Q670 => o5-Q570'], CCMs['o5-CAL610 => o5-Q570'], CCMs['o5-Q570 => o5-Q570'], CCMs['GFP => o5-Q570'], CCMs['DAPI => o5-Q570']])\n"
   ]
  },
  {
   "cell_type": "code",
   "execution_count": null,
   "metadata": {},
   "outputs": [],
   "source": [
    "lf.inspectLoc(cellId=[10,15,16], loc=[mcLocus.lData[0]], locVal=0, maxProj=0,\n",
    "              rawCCMs=[CCMs['o5-AF750 => o5-Q570'], CCMs['o5-Q670 => o5-Q570'], CCMs['o5-CAL610 => o5-Q570'], CCMs['o5-Q570 => o5-Q570'], CCMs['GFP => o5-Q570'], CCMs['DAPI => o5-Q570']])\n"
   ]
  },
  {
   "cell_type": "code",
   "execution_count": null,
   "metadata": {},
   "outputs": [],
   "source": []
  },
  {
   "cell_type": "code",
   "execution_count": null,
   "metadata": {},
   "outputs": [],
   "source": [
    "excl=[103,105,208,228,271,340,344,387,442,483,496,585,675,754,873,921,1005,1053,1078,1120,1185,1339,1383,1398,1475,1477,1512,1525,1528,1534,1542,1660,1680,1735,1787,1833,1894,1908,1913,2016,2050,2068,2075,2085,2162,2164,2199,2211,2223,2234,2254,2290,2394,2675,2704,2711,2745,2757,2771,2791,2833,2864,2890,2966,3028,3069,3332,3375,3413,3471,3567,3574,3652,3666,3680,3765,3807,3917,3957,3998,4035,4230,4279,4296,4319,4377,4394,4404,4435,4540,4558,4679,4745,4803]+[97,128,146,212,432,469,722,823,1221,1493,1585,1586,1589,1751,1839,1868,1907,1932,1953,2192,2234,2384,2435,2513,2704,2711,2966,3183,3389,3574,3694,3728,3730,3740,3744,3748,3807,3925,4369,4391,4600]+[39,45,54,135,172,208,259,269,271,297,340,359,453,459,469,494,537,618,720,771,777,780,781,873,960,1108,1120,1187,1206,1212,1217,1267,1292,1417,1451,1477,1481,1488,1491,1566,1582,1590,1617,1643,1671,1689,1744,1753,1781,1790,1798,1828,1854,1883,1913,2016,2082,2085,2177,2218,2234,2275,2299,2478,2518,2525,2527,2612,2640,2658,2673,2683,2704,2711,2736,2762,2782,2785,2786,2791,2812,2845,2854,2875,2966,3019,3046,3064,3108,3239,3265,3358,3395,3420,3441,3481,3574,3575,3588,3628,3679,3680,3714,3747,3807,3859,3957,4075,4083,4120,4147,4180,4206,4253,4267,4279,4297,4299,4302,4307,4312,4314,4319,4321,4323,4324,4325,4339,4342,4349,4357,4358,4362,4372,4374,4376,4377,4387,4391,4404,4405,4410,4469,4487,4545,4555,4556,4585,4644,4691,4718,4799]\n",
    "savetxt('out/'+dataSetName+'_segmented_nuclei_excluded.cellIds',excl,fmt='%i')"
   ]
  }
 ],
 "metadata": {
  "kernelspec": {
   "display_name": "Python 3",
   "language": "python",
   "name": "python3"
  },
  "language_info": {
   "codemirror_mode": {
    "name": "ipython",
    "version": 3
   },
   "file_extension": ".py",
   "mimetype": "text/x-python",
   "name": "python",
   "nbconvert_exporter": "python",
   "pygments_lexer": "ipython3",
   "version": "3.8.8"
  }
 },
 "nbformat": 4,
 "nbformat_minor": 2
}
