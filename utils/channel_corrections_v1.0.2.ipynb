{
 "cells": [
  {
   "cell_type": "markdown",
   "metadata": {},
   "source": [
    "# Channel corrections (chromatic shift, compensation, offset)\n",
    "Last update: 2022-03-11<br>\n",
    "version 1.0.2\n",
    "\n",
    "Code under GNU General Public License v3 (see `LICENSE` file). <br>\n",
    "Contact: A. Coulon antoine.coulon@curie.fr – Institut Curie, CNRS. 2022"
   ]
  },
  {
   "cell_type": "code",
   "execution_count": 1,
   "metadata": {
    "scrolled": true
   },
   "outputs": [],
   "source": [
    "from scipy import *\n",
    "from numpy import *\n",
    "from matplotlib import pyplot as plt\n",
    "from skimage import *\n",
    "import os, sys\n",
    "#import time\n",
    "import datetime\n",
    "import sys; sys.path.append('../'); import locFiles as lf"
   ]
  },
  {
   "cell_type": "code",
   "execution_count": 2,
   "metadata": {},
   "outputs": [],
   "source": [
    "## Raw data directory\n",
    "dirIn='/Users/acoulon/CoulonLab/data/Kyra/20220120/20220120_neos_cellline_NG3_FXR1-670_empty-channelCAL610_NG21-570_noDOX_1/'\n",
    "\n",
    "## Destination of the corrected images\n",
    "dirOut=dirIn[:-1]+'_corr/'\n",
    "\n",
    "# Chromatic shit correction matrices\n",
    "CCMs=lf.imp.load_source('m', 'chromaticCorr_20210104.py').chromaticCorrMatrices['microscope2_60x_dz0.3um']\n",
    "rawCCMs=[None, CCMs['o5-CAL610 => o5-Q570'], CCMs['o5-Q670 => o5-Q570'], CCMs['DAPI => o5-Q570']]\n",
    "\n",
    "# Channel compensation matrix\n",
    "#   - right vector (columns): [raw channels, offset]\n",
    "#   - left vector (row):      [compensated channels]\n",
    "CompM = array([[1.,   -.787, 0.,    0.,    0.   ],\n",
    "               [0.,   1.,    0.,    0.,    0.   ],\n",
    "               [0.,   -.522, 1.,    0.,    0.   ],\n",
    "               [0.,   0.,    0.,    1.,    0.   ],\n",
    "               ])\n",
    "\n",
    "# Channels to offset to 0\n",
    "chToOffset=[True, False, False, False]\n",
    "\n",
    "###########\n",
    "prmsToSave=In[-1][:-36]"
   ]
  },
  {
   "cell_type": "code",
   "execution_count": 3,
   "metadata": {
    "scrolled": false
   },
   "outputs": [
    {
     "name": "stdout",
     "output_type": "stream",
     "text": [
      "Processing '20220120_neotranscripts_cellline_NG3_FXR1-670_empty-channelCAL610_NG21-570_noDOX_1_MMStack_Pos0.ome.tif'\n",
      "  -> Chromatic shift correction...\n"
     ]
    },
    {
     "name": "stderr",
     "output_type": "stream",
     "text": [
      "C:\\ProgramData\\Anaconda3\\lib\\site-packages\\skimage\\external\\tifffile\\tifffile.py:3722: UserWarning: invalid JSON 'b'{\\n  \"encoding\": \"UTF-8\",\\n  \"format\": \"Micro-Manager Property Map\",\\n  \"major_version\": 2,\\n  \"minor_version\": 0,\\n  \"map\": {\\n    \"AutoscaleIgnoredQuantile\": {\\n      \"type\": \"DOUBLE\",\\n      \"scalar\": 0.001\\n    },\\n    \"Autostretch\": {\\n      \"type\": \"BOOLEAN\",\\n      \"scalar\": true\\n    },\\n    \"ChannelSettings\": {\\n      \"type\": \"PROPERTY_MAP\",\\n      \"array\": [\\n        {\\n          \"Color\": {\\n            \"type\": \"COLOR\",\\n            \"scalar\": {\\n              \"ColorSpace\": \"sRGB\",\\n              \"Components\": [\\n                1.0,\\n                1.0,\\n                1.0\\n              ],\\n              \"Alpha\": 1.0\\n            }\\n          },\\n          \"ComponentSettings\": {\\n            \"type\": \"PROPERTY_MAP\",\\n            \"array\": [\\n              {\\n                \"Gamma\": {\\n                  \"type\": \"DOUBLE\",\\n                  \"scalar\": 1.0\\n                },\\n                \"ScalingMax\": {\\n                  \"type\": \"LONG\",\\n                  \"scalar\": 9223372036854775807\\n                },\\n                \"ScalingMin\": {''\n",
      "  warnings.warn(\"invalid JSON '%s'\" % data)\n"
     ]
    },
    {
     "name": "stdout",
     "output_type": "stream",
     "text": [
      "  -> Channel compensation...\n",
      "  -> Offset channels...\n",
      "  -> Saving...\n",
      "  Done.\n",
      "Processing '20220120_neotranscripts_cellline_NG3_FXR1-670_empty-channelCAL610_NG21-570_noDOX_1_MMStack_Pos1.ome.tif'\n",
      "  -> Chromatic shift correction...\n"
     ]
    },
    {
     "name": "stderr",
     "output_type": "stream",
     "text": [
      "C:\\ProgramData\\Anaconda3\\lib\\site-packages\\skimage\\external\\tifffile\\tifffile.py:3722: UserWarning: invalid JSON 'b'{\\n  \"encoding\": \"UTF-8\",\\n  \"format\": \"Micro-Manager Property Map\",\\n  \"major_version\": 2,\\n  \"minor_version\": 0,\\n  \"map\": {\\n    \"AutoscaleIgnoredQuantile\": {\\n      \"type\": \"DOUBLE\",\\n      \"scalar\": 0.001\\n    },\\n    \"Autostretch\": {\\n      \"type\": \"BOOLEAN\",\\n      \"scalar\": true\\n    },\\n    \"ChannelSettings\": {\\n      \"type\": \"PROPERTY_MAP\",\\n      \"array\": [\\n        {\\n          \"Color\": {\\n            \"type\": \"COLOR\",\\n            \"scalar\": {\\n              \"ColorSpace\": \"sRGB\",\\n              \"Components\": [\\n                1.0,\\n                1.0,\\n                1.0\\n              ],\\n              \"Alpha\": 1.0\\n            }\\n          },\\n          \"ComponentSettings\": {\\n            \"type\": \"PROPERTY_MAP\",\\n            \"array\": [\\n              {\\n                \"Gamma\": {\\n                  \"type\": \"DOUBLE\",\\n                  \"scalar\": 1.0\\n                },\\n                \"ScalingMax\": {\\n                  \"type\": \"LONG\",\\n                  \"scalar\": 9223372036854775807\\n                },\\n                \"ScalingMin\": {''\n",
      "  warnings.warn(\"invalid JSON '%s'\" % data)\n"
     ]
    },
    {
     "name": "stdout",
     "output_type": "stream",
     "text": [
      "  -> Channel compensation...\n",
      "  -> Offset channels...\n",
      "  -> Saving...\n",
      "  Done.\n",
      "Processing '20220120_neotranscripts_cellline_NG3_FXR1-670_empty-channelCAL610_NG21-570_noDOX_1_MMStack_Pos10.ome.tif'\n",
      "  -> Chromatic shift correction...\n"
     ]
    },
    {
     "name": "stderr",
     "output_type": "stream",
     "text": [
      "C:\\ProgramData\\Anaconda3\\lib\\site-packages\\skimage\\external\\tifffile\\tifffile.py:3722: UserWarning: invalid JSON 'b'{\\n  \"encoding\": \"UTF-8\",\\n  \"format\": \"Micro-Manager Property Map\",\\n  \"major_version\": 2,\\n  \"minor_version\": 0,\\n  \"map\": {\\n    \"AutoscaleIgnoredQuantile\": {\\n      \"type\": \"DOUBLE\",\\n      \"scalar\": 0.001\\n    },\\n    \"Autostretch\": {\\n      \"type\": \"BOOLEAN\",\\n      \"scalar\": true\\n    },\\n    \"ChannelSettings\": {\\n      \"type\": \"PROPERTY_MAP\",\\n      \"array\": [\\n        {\\n          \"Color\": {\\n            \"type\": \"COLOR\",\\n            \"scalar\": {\\n              \"ColorSpace\": \"sRGB\",\\n              \"Components\": [\\n                1.0,\\n                1.0,\\n                1.0\\n              ],\\n              \"Alpha\": 1.0\\n            }\\n          },\\n          \"ComponentSettings\": {\\n            \"type\": \"PROPERTY_MAP\",\\n            \"array\": [\\n              {\\n                \"Gamma\": {\\n                  \"type\": \"DOUBLE\",\\n                  \"scalar\": 1.0\\n                },\\n                \"ScalingMax\": {\\n                  \"type\": \"LONG\",\\n                  \"scalar\": 9223372036854775807\\n                },\\n                \"ScalingMin\": {''\n",
      "  warnings.warn(\"invalid JSON '%s'\" % data)\n"
     ]
    },
    {
     "name": "stdout",
     "output_type": "stream",
     "text": [
      "  -> Channel compensation...\n",
      "  -> Offset channels...\n",
      "  -> Saving...\n",
      "  Done.\n",
      "Processing '20220120_neotranscripts_cellline_NG3_FXR1-670_empty-channelCAL610_NG21-570_noDOX_1_MMStack_Pos11.ome.tif'\n",
      "  -> Chromatic shift correction...\n"
     ]
    },
    {
     "name": "stderr",
     "output_type": "stream",
     "text": [
      "C:\\ProgramData\\Anaconda3\\lib\\site-packages\\skimage\\external\\tifffile\\tifffile.py:3722: UserWarning: invalid JSON 'b'{\\n  \"encoding\": \"UTF-8\",\\n  \"format\": \"Micro-Manager Property Map\",\\n  \"major_version\": 2,\\n  \"minor_version\": 0,\\n  \"map\": {\\n    \"AutoscaleIgnoredQuantile\": {\\n      \"type\": \"DOUBLE\",\\n      \"scalar\": 0.001\\n    },\\n    \"Autostretch\": {\\n      \"type\": \"BOOLEAN\",\\n      \"scalar\": true\\n    },\\n    \"ChannelSettings\": {\\n      \"type\": \"PROPERTY_MAP\",\\n      \"array\": [\\n        {\\n          \"Color\": {\\n            \"type\": \"COLOR\",\\n            \"scalar\": {\\n              \"ColorSpace\": \"sRGB\",\\n              \"Components\": [\\n                1.0,\\n                1.0,\\n                1.0\\n              ],\\n              \"Alpha\": 1.0\\n            }\\n          },\\n          \"ComponentSettings\": {\\n            \"type\": \"PROPERTY_MAP\",\\n            \"array\": [\\n              {\\n                \"Gamma\": {\\n                  \"type\": \"DOUBLE\",\\n                  \"scalar\": 1.0\\n                },\\n                \"ScalingMax\": {\\n                  \"type\": \"LONG\",\\n                  \"scalar\": 9223372036854775807\\n                },\\n                \"ScalingMin\": {''\n",
      "  warnings.warn(\"invalid JSON '%s'\" % data)\n"
     ]
    },
    {
     "name": "stdout",
     "output_type": "stream",
     "text": [
      "  -> Channel compensation...\n",
      "  -> Offset channels...\n",
      "  -> Saving...\n",
      "  Done.\n",
      "Processing '20220120_neotranscripts_cellline_NG3_FXR1-670_empty-channelCAL610_NG21-570_noDOX_1_MMStack_Pos12.ome.tif'\n",
      "  -> Chromatic shift correction...\n"
     ]
    },
    {
     "name": "stderr",
     "output_type": "stream",
     "text": [
      "C:\\ProgramData\\Anaconda3\\lib\\site-packages\\skimage\\external\\tifffile\\tifffile.py:3722: UserWarning: invalid JSON 'b'{\\n  \"encoding\": \"UTF-8\",\\n  \"format\": \"Micro-Manager Property Map\",\\n  \"major_version\": 2,\\n  \"minor_version\": 0,\\n  \"map\": {\\n    \"AutoscaleIgnoredQuantile\": {\\n      \"type\": \"DOUBLE\",\\n      \"scalar\": 0.001\\n    },\\n    \"Autostretch\": {\\n      \"type\": \"BOOLEAN\",\\n      \"scalar\": true\\n    },\\n    \"ChannelSettings\": {\\n      \"type\": \"PROPERTY_MAP\",\\n      \"array\": [\\n        {\\n          \"Color\": {\\n            \"type\": \"COLOR\",\\n            \"scalar\": {\\n              \"ColorSpace\": \"sRGB\",\\n              \"Components\": [\\n                1.0,\\n                1.0,\\n                1.0\\n              ],\\n              \"Alpha\": 1.0\\n            }\\n          },\\n          \"ComponentSettings\": {\\n            \"type\": \"PROPERTY_MAP\",\\n            \"array\": [\\n              {\\n                \"Gamma\": {\\n                  \"type\": \"DOUBLE\",\\n                  \"scalar\": 1.0\\n                },\\n                \"ScalingMax\": {\\n                  \"type\": \"LONG\",\\n                  \"scalar\": 9223372036854775807\\n                },\\n                \"ScalingMin\": {''\n",
      "  warnings.warn(\"invalid JSON '%s'\" % data)\n"
     ]
    },
    {
     "name": "stdout",
     "output_type": "stream",
     "text": [
      "  -> Channel compensation...\n",
      "  -> Offset channels...\n",
      "  -> Saving...\n",
      "  Done.\n",
      "Processing '20220120_neotranscripts_cellline_NG3_FXR1-670_empty-channelCAL610_NG21-570_noDOX_1_MMStack_Pos13.ome.tif'\n",
      "  -> Chromatic shift correction...\n"
     ]
    },
    {
     "name": "stderr",
     "output_type": "stream",
     "text": [
      "C:\\ProgramData\\Anaconda3\\lib\\site-packages\\skimage\\external\\tifffile\\tifffile.py:3722: UserWarning: invalid JSON 'b'{\\n  \"encoding\": \"UTF-8\",\\n  \"format\": \"Micro-Manager Property Map\",\\n  \"major_version\": 2,\\n  \"minor_version\": 0,\\n  \"map\": {\\n    \"AutoscaleIgnoredQuantile\": {\\n      \"type\": \"DOUBLE\",\\n      \"scalar\": 0.001\\n    },\\n    \"Autostretch\": {\\n      \"type\": \"BOOLEAN\",\\n      \"scalar\": true\\n    },\\n    \"ChannelSettings\": {\\n      \"type\": \"PROPERTY_MAP\",\\n      \"array\": [\\n        {\\n          \"Color\": {\\n            \"type\": \"COLOR\",\\n            \"scalar\": {\\n              \"ColorSpace\": \"sRGB\",\\n              \"Components\": [\\n                1.0,\\n                1.0,\\n                1.0\\n              ],\\n              \"Alpha\": 1.0\\n            }\\n          },\\n          \"ComponentSettings\": {\\n            \"type\": \"PROPERTY_MAP\",\\n            \"array\": [\\n              {\\n                \"Gamma\": {\\n                  \"type\": \"DOUBLE\",\\n                  \"scalar\": 1.0\\n                },\\n                \"ScalingMax\": {\\n                  \"type\": \"LONG\",\\n                  \"scalar\": 9223372036854775807\\n                },\\n                \"ScalingMin\": {''\n",
      "  warnings.warn(\"invalid JSON '%s'\" % data)\n"
     ]
    },
    {
     "name": "stdout",
     "output_type": "stream",
     "text": [
      "  -> Channel compensation...\n",
      "  -> Offset channels...\n",
      "  -> Saving...\n",
      "  Done.\n",
      "Processing '20220120_neotranscripts_cellline_NG3_FXR1-670_empty-channelCAL610_NG21-570_noDOX_1_MMStack_Pos14.ome.tif'\n",
      "  -> Chromatic shift correction...\n"
     ]
    },
    {
     "name": "stderr",
     "output_type": "stream",
     "text": [
      "C:\\ProgramData\\Anaconda3\\lib\\site-packages\\skimage\\external\\tifffile\\tifffile.py:3722: UserWarning: invalid JSON 'b'{\\n  \"encoding\": \"UTF-8\",\\n  \"format\": \"Micro-Manager Property Map\",\\n  \"major_version\": 2,\\n  \"minor_version\": 0,\\n  \"map\": {\\n    \"AutoscaleIgnoredQuantile\": {\\n      \"type\": \"DOUBLE\",\\n      \"scalar\": 0.001\\n    },\\n    \"Autostretch\": {\\n      \"type\": \"BOOLEAN\",\\n      \"scalar\": true\\n    },\\n    \"ChannelSettings\": {\\n      \"type\": \"PROPERTY_MAP\",\\n      \"array\": [\\n        {\\n          \"Color\": {\\n            \"type\": \"COLOR\",\\n            \"scalar\": {\\n              \"ColorSpace\": \"sRGB\",\\n              \"Components\": [\\n                1.0,\\n                1.0,\\n                1.0\\n              ],\\n              \"Alpha\": 1.0\\n            }\\n          },\\n          \"ComponentSettings\": {\\n            \"type\": \"PROPERTY_MAP\",\\n            \"array\": [\\n              {\\n                \"Gamma\": {\\n                  \"type\": \"DOUBLE\",\\n                  \"scalar\": 1.0\\n                },\\n                \"ScalingMax\": {\\n                  \"type\": \"LONG\",\\n                  \"scalar\": 9223372036854775807\\n                },\\n                \"ScalingMin\": {''\n",
      "  warnings.warn(\"invalid JSON '%s'\" % data)\n"
     ]
    },
    {
     "name": "stdout",
     "output_type": "stream",
     "text": [
      "  -> Channel compensation...\n",
      "  -> Offset channels...\n",
      "  -> Saving...\n",
      "  Done.\n",
      "Processing '20220120_neotranscripts_cellline_NG3_FXR1-670_empty-channelCAL610_NG21-570_noDOX_1_MMStack_Pos15.ome.tif'\n",
      "  -> Chromatic shift correction...\n"
     ]
    },
    {
     "name": "stderr",
     "output_type": "stream",
     "text": [
      "C:\\ProgramData\\Anaconda3\\lib\\site-packages\\skimage\\external\\tifffile\\tifffile.py:3722: UserWarning: invalid JSON 'b'{\\n  \"encoding\": \"UTF-8\",\\n  \"format\": \"Micro-Manager Property Map\",\\n  \"major_version\": 2,\\n  \"minor_version\": 0,\\n  \"map\": {\\n    \"AutoscaleIgnoredQuantile\": {\\n      \"type\": \"DOUBLE\",\\n      \"scalar\": 0.001\\n    },\\n    \"Autostretch\": {\\n      \"type\": \"BOOLEAN\",\\n      \"scalar\": true\\n    },\\n    \"ChannelSettings\": {\\n      \"type\": \"PROPERTY_MAP\",\\n      \"array\": [\\n        {\\n          \"Color\": {\\n            \"type\": \"COLOR\",\\n            \"scalar\": {\\n              \"ColorSpace\": \"sRGB\",\\n              \"Components\": [\\n                1.0,\\n                1.0,\\n                1.0\\n              ],\\n              \"Alpha\": 1.0\\n            }\\n          },\\n          \"ComponentSettings\": {\\n            \"type\": \"PROPERTY_MAP\",\\n            \"array\": [\\n              {\\n                \"Gamma\": {\\n                  \"type\": \"DOUBLE\",\\n                  \"scalar\": 1.0\\n                },\\n                \"ScalingMax\": {\\n                  \"type\": \"LONG\",\\n                  \"scalar\": 9223372036854775807\\n                },\\n                \"ScalingMin\": {''\n",
      "  warnings.warn(\"invalid JSON '%s'\" % data)\n"
     ]
    },
    {
     "name": "stdout",
     "output_type": "stream",
     "text": [
      "  -> Channel compensation...\n",
      "  -> Offset channels...\n",
      "  -> Saving...\n",
      "  Done.\n",
      "Processing '20220120_neotranscripts_cellline_NG3_FXR1-670_empty-channelCAL610_NG21-570_noDOX_1_MMStack_Pos16.ome.tif'\n",
      "  -> Chromatic shift correction...\n"
     ]
    },
    {
     "name": "stderr",
     "output_type": "stream",
     "text": [
      "C:\\ProgramData\\Anaconda3\\lib\\site-packages\\skimage\\external\\tifffile\\tifffile.py:3722: UserWarning: invalid JSON 'b'{\\n  \"encoding\": \"UTF-8\",\\n  \"format\": \"Micro-Manager Property Map\",\\n  \"major_version\": 2,\\n  \"minor_version\": 0,\\n  \"map\": {\\n    \"AutoscaleIgnoredQuantile\": {\\n      \"type\": \"DOUBLE\",\\n      \"scalar\": 0.001\\n    },\\n    \"Autostretch\": {\\n      \"type\": \"BOOLEAN\",\\n      \"scalar\": true\\n    },\\n    \"ChannelSettings\": {\\n      \"type\": \"PROPERTY_MAP\",\\n      \"array\": [\\n        {\\n          \"Color\": {\\n            \"type\": \"COLOR\",\\n            \"scalar\": {\\n              \"ColorSpace\": \"sRGB\",\\n              \"Components\": [\\n                1.0,\\n                1.0,\\n                1.0\\n              ],\\n              \"Alpha\": 1.0\\n            }\\n          },\\n          \"ComponentSettings\": {\\n            \"type\": \"PROPERTY_MAP\",\\n            \"array\": [\\n              {\\n                \"Gamma\": {\\n                  \"type\": \"DOUBLE\",\\n                  \"scalar\": 1.0\\n                },\\n                \"ScalingMax\": {\\n                  \"type\": \"LONG\",\\n                  \"scalar\": 9223372036854775807\\n                },\\n                \"ScalingMin\": {''\n",
      "  warnings.warn(\"invalid JSON '%s'\" % data)\n"
     ]
    },
    {
     "name": "stdout",
     "output_type": "stream",
     "text": [
      "  -> Channel compensation...\n",
      "  -> Offset channels...\n",
      "  -> Saving...\n",
      "  Done.\n",
      "Processing '20220120_neotranscripts_cellline_NG3_FXR1-670_empty-channelCAL610_NG21-570_noDOX_1_MMStack_Pos17.ome.tif'\n",
      "  -> Chromatic shift correction...\n"
     ]
    },
    {
     "name": "stderr",
     "output_type": "stream",
     "text": [
      "C:\\ProgramData\\Anaconda3\\lib\\site-packages\\skimage\\external\\tifffile\\tifffile.py:3722: UserWarning: invalid JSON 'b'{\\n  \"encoding\": \"UTF-8\",\\n  \"format\": \"Micro-Manager Property Map\",\\n  \"major_version\": 2,\\n  \"minor_version\": 0,\\n  \"map\": {\\n    \"AutoscaleIgnoredQuantile\": {\\n      \"type\": \"DOUBLE\",\\n      \"scalar\": 0.001\\n    },\\n    \"Autostretch\": {\\n      \"type\": \"BOOLEAN\",\\n      \"scalar\": true\\n    },\\n    \"ChannelSettings\": {\\n      \"type\": \"PROPERTY_MAP\",\\n      \"array\": [\\n        {\\n          \"Color\": {\\n            \"type\": \"COLOR\",\\n            \"scalar\": {\\n              \"ColorSpace\": \"sRGB\",\\n              \"Components\": [\\n                1.0,\\n                1.0,\\n                1.0\\n              ],\\n              \"Alpha\": 1.0\\n            }\\n          },\\n          \"ComponentSettings\": {\\n            \"type\": \"PROPERTY_MAP\",\\n            \"array\": [\\n              {\\n                \"Gamma\": {\\n                  \"type\": \"DOUBLE\",\\n                  \"scalar\": 1.0\\n                },\\n                \"ScalingMax\": {\\n                  \"type\": \"LONG\",\\n                  \"scalar\": 9223372036854775807\\n                },\\n                \"ScalingMin\": {''\n",
      "  warnings.warn(\"invalid JSON '%s'\" % data)\n"
     ]
    },
    {
     "name": "stdout",
     "output_type": "stream",
     "text": [
      "  -> Channel compensation...\n",
      "  -> Offset channels...\n",
      "  -> Saving...\n",
      "  Done.\n",
      "Processing '20220120_neotranscripts_cellline_NG3_FXR1-670_empty-channelCAL610_NG21-570_noDOX_1_MMStack_Pos18.ome.tif'\n",
      "  -> Chromatic shift correction...\n"
     ]
    },
    {
     "name": "stderr",
     "output_type": "stream",
     "text": [
      "C:\\ProgramData\\Anaconda3\\lib\\site-packages\\skimage\\external\\tifffile\\tifffile.py:3722: UserWarning: invalid JSON 'b'{\\n  \"encoding\": \"UTF-8\",\\n  \"format\": \"Micro-Manager Property Map\",\\n  \"major_version\": 2,\\n  \"minor_version\": 0,\\n  \"map\": {\\n    \"AutoscaleIgnoredQuantile\": {\\n      \"type\": \"DOUBLE\",\\n      \"scalar\": 0.001\\n    },\\n    \"Autostretch\": {\\n      \"type\": \"BOOLEAN\",\\n      \"scalar\": true\\n    },\\n    \"ChannelSettings\": {\\n      \"type\": \"PROPERTY_MAP\",\\n      \"array\": [\\n        {\\n          \"Color\": {\\n            \"type\": \"COLOR\",\\n            \"scalar\": {\\n              \"ColorSpace\": \"sRGB\",\\n              \"Components\": [\\n                1.0,\\n                1.0,\\n                1.0\\n              ],\\n              \"Alpha\": 1.0\\n            }\\n          },\\n          \"ComponentSettings\": {\\n            \"type\": \"PROPERTY_MAP\",\\n            \"array\": [\\n              {\\n                \"Gamma\": {\\n                  \"type\": \"DOUBLE\",\\n                  \"scalar\": 1.0\\n                },\\n                \"ScalingMax\": {\\n                  \"type\": \"LONG\",\\n                  \"scalar\": 9223372036854775807\\n                },\\n                \"ScalingMin\": {''\n",
      "  warnings.warn(\"invalid JSON '%s'\" % data)\n"
     ]
    },
    {
     "name": "stdout",
     "output_type": "stream",
     "text": [
      "  -> Channel compensation...\n",
      "  -> Offset channels...\n",
      "  -> Saving...\n",
      "  Done.\n",
      "Processing '20220120_neotranscripts_cellline_NG3_FXR1-670_empty-channelCAL610_NG21-570_noDOX_1_MMStack_Pos19.ome.tif'\n",
      "  -> Chromatic shift correction...\n"
     ]
    },
    {
     "name": "stderr",
     "output_type": "stream",
     "text": [
      "C:\\ProgramData\\Anaconda3\\lib\\site-packages\\skimage\\external\\tifffile\\tifffile.py:3722: UserWarning: invalid JSON 'b'{\\n  \"encoding\": \"UTF-8\",\\n  \"format\": \"Micro-Manager Property Map\",\\n  \"major_version\": 2,\\n  \"minor_version\": 0,\\n  \"map\": {\\n    \"AutoscaleIgnoredQuantile\": {\\n      \"type\": \"DOUBLE\",\\n      \"scalar\": 0.001\\n    },\\n    \"Autostretch\": {\\n      \"type\": \"BOOLEAN\",\\n      \"scalar\": true\\n    },\\n    \"ChannelSettings\": {\\n      \"type\": \"PROPERTY_MAP\",\\n      \"array\": [\\n        {\\n          \"Color\": {\\n            \"type\": \"COLOR\",\\n            \"scalar\": {\\n              \"ColorSpace\": \"sRGB\",\\n              \"Components\": [\\n                1.0,\\n                1.0,\\n                1.0\\n              ],\\n              \"Alpha\": 1.0\\n            }\\n          },\\n          \"ComponentSettings\": {\\n            \"type\": \"PROPERTY_MAP\",\\n            \"array\": [\\n              {\\n                \"Gamma\": {\\n                  \"type\": \"DOUBLE\",\\n                  \"scalar\": 1.0\\n                },\\n                \"ScalingMax\": {\\n                  \"type\": \"LONG\",\\n                  \"scalar\": 9223372036854775807\\n                },\\n                \"ScalingMin\": {''\n",
      "  warnings.warn(\"invalid JSON '%s'\" % data)\n"
     ]
    },
    {
     "name": "stdout",
     "output_type": "stream",
     "text": [
      "  -> Channel compensation...\n",
      "  -> Offset channels...\n",
      "  -> Saving...\n",
      "  Done.\n",
      "Processing '20220120_neotranscripts_cellline_NG3_FXR1-670_empty-channelCAL610_NG21-570_noDOX_1_MMStack_Pos2.ome.tif'\n",
      "  -> Chromatic shift correction...\n"
     ]
    },
    {
     "name": "stderr",
     "output_type": "stream",
     "text": [
      "C:\\ProgramData\\Anaconda3\\lib\\site-packages\\skimage\\external\\tifffile\\tifffile.py:3722: UserWarning: invalid JSON 'b'{\\n  \"encoding\": \"UTF-8\",\\n  \"format\": \"Micro-Manager Property Map\",\\n  \"major_version\": 2,\\n  \"minor_version\": 0,\\n  \"map\": {\\n    \"AutoscaleIgnoredQuantile\": {\\n      \"type\": \"DOUBLE\",\\n      \"scalar\": 0.001\\n    },\\n    \"Autostretch\": {\\n      \"type\": \"BOOLEAN\",\\n      \"scalar\": true\\n    },\\n    \"ChannelSettings\": {\\n      \"type\": \"PROPERTY_MAP\",\\n      \"array\": [\\n        {\\n          \"Color\": {\\n            \"type\": \"COLOR\",\\n            \"scalar\": {\\n              \"ColorSpace\": \"sRGB\",\\n              \"Components\": [\\n                1.0,\\n                1.0,\\n                1.0\\n              ],\\n              \"Alpha\": 1.0\\n            }\\n          },\\n          \"ComponentSettings\": {\\n            \"type\": \"PROPERTY_MAP\",\\n            \"array\": [\\n              {\\n                \"Gamma\": {\\n                  \"type\": \"DOUBLE\",\\n                  \"scalar\": 1.0\\n                },\\n                \"ScalingMax\": {\\n                  \"type\": \"LONG\",\\n                  \"scalar\": 9223372036854775807\\n                },\\n                \"ScalingMin\": {''\n",
      "  warnings.warn(\"invalid JSON '%s'\" % data)\n"
     ]
    },
    {
     "name": "stdout",
     "output_type": "stream",
     "text": [
      "  -> Channel compensation...\n",
      "  -> Offset channels...\n",
      "  -> Saving...\n",
      "  Done.\n",
      "Processing '20220120_neotranscripts_cellline_NG3_FXR1-670_empty-channelCAL610_NG21-570_noDOX_1_MMStack_Pos3.ome.tif'\n",
      "  -> Chromatic shift correction...\n"
     ]
    },
    {
     "name": "stderr",
     "output_type": "stream",
     "text": [
      "C:\\ProgramData\\Anaconda3\\lib\\site-packages\\skimage\\external\\tifffile\\tifffile.py:3722: UserWarning: invalid JSON 'b'{\\n  \"encoding\": \"UTF-8\",\\n  \"format\": \"Micro-Manager Property Map\",\\n  \"major_version\": 2,\\n  \"minor_version\": 0,\\n  \"map\": {\\n    \"AutoscaleIgnoredQuantile\": {\\n      \"type\": \"DOUBLE\",\\n      \"scalar\": 0.001\\n    },\\n    \"Autostretch\": {\\n      \"type\": \"BOOLEAN\",\\n      \"scalar\": true\\n    },\\n    \"ChannelSettings\": {\\n      \"type\": \"PROPERTY_MAP\",\\n      \"array\": [\\n        {\\n          \"Color\": {\\n            \"type\": \"COLOR\",\\n            \"scalar\": {\\n              \"ColorSpace\": \"sRGB\",\\n              \"Components\": [\\n                1.0,\\n                1.0,\\n                1.0\\n              ],\\n              \"Alpha\": 1.0\\n            }\\n          },\\n          \"ComponentSettings\": {\\n            \"type\": \"PROPERTY_MAP\",\\n            \"array\": [\\n              {\\n                \"Gamma\": {\\n                  \"type\": \"DOUBLE\",\\n                  \"scalar\": 1.0\\n                },\\n                \"ScalingMax\": {\\n                  \"type\": \"LONG\",\\n                  \"scalar\": 9223372036854775807\\n                },\\n                \"ScalingMin\": {''\n",
      "  warnings.warn(\"invalid JSON '%s'\" % data)\n"
     ]
    },
    {
     "name": "stdout",
     "output_type": "stream",
     "text": [
      "  -> Channel compensation...\n",
      "  -> Offset channels...\n",
      "  -> Saving...\n",
      "  Done.\n",
      "Processing '20220120_neotranscripts_cellline_NG3_FXR1-670_empty-channelCAL610_NG21-570_noDOX_1_MMStack_Pos4.ome.tif'\n",
      "  -> Chromatic shift correction...\n"
     ]
    },
    {
     "name": "stderr",
     "output_type": "stream",
     "text": [
      "C:\\ProgramData\\Anaconda3\\lib\\site-packages\\skimage\\external\\tifffile\\tifffile.py:3722: UserWarning: invalid JSON 'b'{\\n  \"encoding\": \"UTF-8\",\\n  \"format\": \"Micro-Manager Property Map\",\\n  \"major_version\": 2,\\n  \"minor_version\": 0,\\n  \"map\": {\\n    \"AutoscaleIgnoredQuantile\": {\\n      \"type\": \"DOUBLE\",\\n      \"scalar\": 0.001\\n    },\\n    \"Autostretch\": {\\n      \"type\": \"BOOLEAN\",\\n      \"scalar\": true\\n    },\\n    \"ChannelSettings\": {\\n      \"type\": \"PROPERTY_MAP\",\\n      \"array\": [\\n        {\\n          \"Color\": {\\n            \"type\": \"COLOR\",\\n            \"scalar\": {\\n              \"ColorSpace\": \"sRGB\",\\n              \"Components\": [\\n                1.0,\\n                1.0,\\n                1.0\\n              ],\\n              \"Alpha\": 1.0\\n            }\\n          },\\n          \"ComponentSettings\": {\\n            \"type\": \"PROPERTY_MAP\",\\n            \"array\": [\\n              {\\n                \"Gamma\": {\\n                  \"type\": \"DOUBLE\",\\n                  \"scalar\": 1.0\\n                },\\n                \"ScalingMax\": {\\n                  \"type\": \"LONG\",\\n                  \"scalar\": 9223372036854775807\\n                },\\n                \"ScalingMin\": {''\n",
      "  warnings.warn(\"invalid JSON '%s'\" % data)\n"
     ]
    },
    {
     "name": "stdout",
     "output_type": "stream",
     "text": [
      "  -> Channel compensation...\n",
      "  -> Offset channels...\n",
      "  -> Saving...\n",
      "  Done.\n",
      "Processing '20220120_neotranscripts_cellline_NG3_FXR1-670_empty-channelCAL610_NG21-570_noDOX_1_MMStack_Pos5.ome.tif'\n",
      "  -> Chromatic shift correction...\n"
     ]
    },
    {
     "name": "stderr",
     "output_type": "stream",
     "text": [
      "C:\\ProgramData\\Anaconda3\\lib\\site-packages\\skimage\\external\\tifffile\\tifffile.py:3722: UserWarning: invalid JSON 'b'{\\n  \"encoding\": \"UTF-8\",\\n  \"format\": \"Micro-Manager Property Map\",\\n  \"major_version\": 2,\\n  \"minor_version\": 0,\\n  \"map\": {\\n    \"AutoscaleIgnoredQuantile\": {\\n      \"type\": \"DOUBLE\",\\n      \"scalar\": 0.001\\n    },\\n    \"Autostretch\": {\\n      \"type\": \"BOOLEAN\",\\n      \"scalar\": true\\n    },\\n    \"ChannelSettings\": {\\n      \"type\": \"PROPERTY_MAP\",\\n      \"array\": [\\n        {\\n          \"Color\": {\\n            \"type\": \"COLOR\",\\n            \"scalar\": {\\n              \"ColorSpace\": \"sRGB\",\\n              \"Components\": [\\n                1.0,\\n                1.0,\\n                1.0\\n              ],\\n              \"Alpha\": 1.0\\n            }\\n          },\\n          \"ComponentSettings\": {\\n            \"type\": \"PROPERTY_MAP\",\\n            \"array\": [\\n              {\\n                \"Gamma\": {\\n                  \"type\": \"DOUBLE\",\\n                  \"scalar\": 1.0\\n                },\\n                \"ScalingMax\": {\\n                  \"type\": \"LONG\",\\n                  \"scalar\": 9223372036854775807\\n                },\\n                \"ScalingMin\": {''\n",
      "  warnings.warn(\"invalid JSON '%s'\" % data)\n"
     ]
    },
    {
     "name": "stdout",
     "output_type": "stream",
     "text": [
      "  -> Channel compensation...\n",
      "  -> Offset channels...\n",
      "  -> Saving...\n",
      "  Done.\n",
      "Processing '20220120_neotranscripts_cellline_NG3_FXR1-670_empty-channelCAL610_NG21-570_noDOX_1_MMStack_Pos6.ome.tif'\n",
      "  -> Chromatic shift correction...\n"
     ]
    },
    {
     "name": "stderr",
     "output_type": "stream",
     "text": [
      "C:\\ProgramData\\Anaconda3\\lib\\site-packages\\skimage\\external\\tifffile\\tifffile.py:3722: UserWarning: invalid JSON 'b'{\\n  \"encoding\": \"UTF-8\",\\n  \"format\": \"Micro-Manager Property Map\",\\n  \"major_version\": 2,\\n  \"minor_version\": 0,\\n  \"map\": {\\n    \"AutoscaleIgnoredQuantile\": {\\n      \"type\": \"DOUBLE\",\\n      \"scalar\": 0.001\\n    },\\n    \"Autostretch\": {\\n      \"type\": \"BOOLEAN\",\\n      \"scalar\": true\\n    },\\n    \"ChannelSettings\": {\\n      \"type\": \"PROPERTY_MAP\",\\n      \"array\": [\\n        {\\n          \"Color\": {\\n            \"type\": \"COLOR\",\\n            \"scalar\": {\\n              \"ColorSpace\": \"sRGB\",\\n              \"Components\": [\\n                1.0,\\n                1.0,\\n                1.0\\n              ],\\n              \"Alpha\": 1.0\\n            }\\n          },\\n          \"ComponentSettings\": {\\n            \"type\": \"PROPERTY_MAP\",\\n            \"array\": [\\n              {\\n                \"Gamma\": {\\n                  \"type\": \"DOUBLE\",\\n                  \"scalar\": 1.0\\n                },\\n                \"ScalingMax\": {\\n                  \"type\": \"LONG\",\\n                  \"scalar\": 9223372036854775807\\n                },\\n                \"ScalingMin\": {''\n",
      "  warnings.warn(\"invalid JSON '%s'\" % data)\n"
     ]
    },
    {
     "name": "stdout",
     "output_type": "stream",
     "text": [
      "  -> Channel compensation...\n",
      "  -> Offset channels...\n",
      "  -> Saving...\n",
      "  Done.\n",
      "Processing '20220120_neotranscripts_cellline_NG3_FXR1-670_empty-channelCAL610_NG21-570_noDOX_1_MMStack_Pos7.ome.tif'\n",
      "  -> Chromatic shift correction...\n"
     ]
    },
    {
     "name": "stderr",
     "output_type": "stream",
     "text": [
      "C:\\ProgramData\\Anaconda3\\lib\\site-packages\\skimage\\external\\tifffile\\tifffile.py:3722: UserWarning: invalid JSON 'b'{\\n  \"encoding\": \"UTF-8\",\\n  \"format\": \"Micro-Manager Property Map\",\\n  \"major_version\": 2,\\n  \"minor_version\": 0,\\n  \"map\": {\\n    \"AutoscaleIgnoredQuantile\": {\\n      \"type\": \"DOUBLE\",\\n      \"scalar\": 0.001\\n    },\\n    \"Autostretch\": {\\n      \"type\": \"BOOLEAN\",\\n      \"scalar\": true\\n    },\\n    \"ChannelSettings\": {\\n      \"type\": \"PROPERTY_MAP\",\\n      \"array\": [\\n        {\\n          \"Color\": {\\n            \"type\": \"COLOR\",\\n            \"scalar\": {\\n              \"ColorSpace\": \"sRGB\",\\n              \"Components\": [\\n                1.0,\\n                1.0,\\n                1.0\\n              ],\\n              \"Alpha\": 1.0\\n            }\\n          },\\n          \"ComponentSettings\": {\\n            \"type\": \"PROPERTY_MAP\",\\n            \"array\": [\\n              {\\n                \"Gamma\": {\\n                  \"type\": \"DOUBLE\",\\n                  \"scalar\": 1.0\\n                },\\n                \"ScalingMax\": {\\n                  \"type\": \"LONG\",\\n                  \"scalar\": 9223372036854775807\\n                },\\n                \"ScalingMin\": {''\n",
      "  warnings.warn(\"invalid JSON '%s'\" % data)\n"
     ]
    },
    {
     "name": "stdout",
     "output_type": "stream",
     "text": [
      "  -> Channel compensation...\n",
      "  -> Offset channels...\n",
      "  -> Saving...\n",
      "  Done.\n",
      "Processing '20220120_neotranscripts_cellline_NG3_FXR1-670_empty-channelCAL610_NG21-570_noDOX_1_MMStack_Pos8.ome.tif'\n",
      "  -> Chromatic shift correction...\n"
     ]
    },
    {
     "name": "stderr",
     "output_type": "stream",
     "text": [
      "C:\\ProgramData\\Anaconda3\\lib\\site-packages\\skimage\\external\\tifffile\\tifffile.py:3722: UserWarning: invalid JSON 'b'{\\n  \"encoding\": \"UTF-8\",\\n  \"format\": \"Micro-Manager Property Map\",\\n  \"major_version\": 2,\\n  \"minor_version\": 0,\\n  \"map\": {\\n    \"AutoscaleIgnoredQuantile\": {\\n      \"type\": \"DOUBLE\",\\n      \"scalar\": 0.001\\n    },\\n    \"Autostretch\": {\\n      \"type\": \"BOOLEAN\",\\n      \"scalar\": true\\n    },\\n    \"ChannelSettings\": {\\n      \"type\": \"PROPERTY_MAP\",\\n      \"array\": [\\n        {\\n          \"Color\": {\\n            \"type\": \"COLOR\",\\n            \"scalar\": {\\n              \"ColorSpace\": \"sRGB\",\\n              \"Components\": [\\n                1.0,\\n                1.0,\\n                1.0\\n              ],\\n              \"Alpha\": 1.0\\n            }\\n          },\\n          \"ComponentSettings\": {\\n            \"type\": \"PROPERTY_MAP\",\\n            \"array\": [\\n              {\\n                \"Gamma\": {\\n                  \"type\": \"DOUBLE\",\\n                  \"scalar\": 1.0\\n                },\\n                \"ScalingMax\": {\\n                  \"type\": \"LONG\",\\n                  \"scalar\": 9223372036854775807\\n                },\\n                \"ScalingMin\": {''\n",
      "  warnings.warn(\"invalid JSON '%s'\" % data)\n"
     ]
    },
    {
     "name": "stdout",
     "output_type": "stream",
     "text": [
      "  -> Channel compensation...\n",
      "  -> Offset channels...\n",
      "  -> Saving...\n",
      "  Done.\n",
      "Processing '20220120_neotranscripts_cellline_NG3_FXR1-670_empty-channelCAL610_NG21-570_noDOX_1_MMStack_Pos9.ome.tif'\n",
      "  -> Chromatic shift correction...\n"
     ]
    },
    {
     "name": "stderr",
     "output_type": "stream",
     "text": [
      "C:\\ProgramData\\Anaconda3\\lib\\site-packages\\skimage\\external\\tifffile\\tifffile.py:3722: UserWarning: invalid JSON 'b'{\\n  \"encoding\": \"UTF-8\",\\n  \"format\": \"Micro-Manager Property Map\",\\n  \"major_version\": 2,\\n  \"minor_version\": 0,\\n  \"map\": {\\n    \"AutoscaleIgnoredQuantile\": {\\n      \"type\": \"DOUBLE\",\\n      \"scalar\": 0.001\\n    },\\n    \"Autostretch\": {\\n      \"type\": \"BOOLEAN\",\\n      \"scalar\": true\\n    },\\n    \"ChannelSettings\": {\\n      \"type\": \"PROPERTY_MAP\",\\n      \"array\": [\\n        {\\n          \"Color\": {\\n            \"type\": \"COLOR\",\\n            \"scalar\": {\\n              \"ColorSpace\": \"sRGB\",\\n              \"Components\": [\\n                1.0,\\n                1.0,\\n                1.0\\n              ],\\n              \"Alpha\": 1.0\\n            }\\n          },\\n          \"ComponentSettings\": {\\n            \"type\": \"PROPERTY_MAP\",\\n            \"array\": [\\n              {\\n                \"Gamma\": {\\n                  \"type\": \"DOUBLE\",\\n                  \"scalar\": 1.0\\n                },\\n                \"ScalingMax\": {\\n                  \"type\": \"LONG\",\\n                  \"scalar\": 9223372036854775807\\n                },\\n                \"ScalingMin\": {''\n",
      "  warnings.warn(\"invalid JSON '%s'\" % data)\n"
     ]
    },
    {
     "name": "stdout",
     "output_type": "stream",
     "text": [
      "  -> Channel compensation...\n",
      "  -> Offset channels...\n",
      "  -> Saving...\n",
      "  Done.\n"
     ]
    }
   ],
   "source": [
    "if not os.path.exists(dirOut): os.mkdir(dirOut)\n",
    "open(os.path.join(dirOut,'corr_params.txt'),'w').writelines(\"### Corrected on %s with the following parameters:\\n\\n%s\"%(str(datetime.datetime.now()),prmsToSave))\n",
    "    \n",
    "for fn in os.listdir(dirIn):\n",
    "    if fn[-4:]!='.tif': continue\n",
    "    \n",
    "    print(\"Processing '%s'\"%fn)\n",
    "    \n",
    "    # Chromatic shift correction on whole field of view\n",
    "    print(\"  -> Chromatic shift correction...\")\n",
    "    #fnTmp='./tmp%05d.tif'%random.randint(100000)\n",
    "    fnTmp=fn[:-4]+'_cc.tif'\n",
    "    lf.inspectLoc(raw=fn,\n",
    "                  dirIn=dirIn,\n",
    "                  dirOut='./',\n",
    "                  rawCCMs=rawCCMs,\n",
    "                  maxProj=False,\n",
    "                  fnTifInspect=fnTmp)\n",
    "    \n",
    "    # Channel compensation\n",
    "    print(\"  -> Channel compensation...\")\n",
    "    im=io.imread(fnTmp)\n",
    "    im=im.swapaxes(1,3).swapaxes(2,3) #!!!!\n",
    "    # /!\\ Dimensions should be ZCYX /!\\\n",
    "    imComp=array([sum([im[:,i]*compW[i] if compW[i]!=1. else im[:,i] for i in range(compW.shape[0]-1) if compW[i]!=0],0)+compW[-1]\n",
    "        for compW in CompM]).swapaxes(0,1)\n",
    "    os.remove(fnTmp)\n",
    "    \n",
    "    # Offset\n",
    "    print(\"  -> Offset channels...\")\n",
    "    imComp=imComp.T\n",
    "    for i,toOffset in enumerate(chToOffset):\n",
    "        if toOffset: imComp[:,:,i]-=imComp[:,:,i].mean(0).mean(0)\n",
    "    imComp=imComp.T\n",
    "    \n",
    "    # Saving\n",
    "    print(\"  -> Saving...\")\n",
    "    io.imsave(os.path.join(dirOut,fn[:-4]+'_corr.tif'),float32(imComp),imagej=True)\n",
    "    \n",
    "    print(\"  Done.\")\n"
   ]
  },
  {
   "cell_type": "code",
   "execution_count": null,
   "metadata": {},
   "outputs": [],
   "source": []
  },
  {
   "cell_type": "code",
   "execution_count": null,
   "metadata": {},
   "outputs": [],
   "source": []
  },
  {
   "cell_type": "code",
   "execution_count": null,
   "metadata": {},
   "outputs": [],
   "source": []
  },
  {
   "cell_type": "code",
   "execution_count": null,
   "metadata": {},
   "outputs": [],
   "source": []
  },
  {
   "cell_type": "code",
   "execution_count": null,
   "metadata": {},
   "outputs": [],
   "source": []
  },
  {
   "cell_type": "markdown",
   "metadata": {},
   "source": [
    "### To determine compensation matrix"
   ]
  },
  {
   "cell_type": "code",
   "execution_count": 4,
   "metadata": {},
   "outputs": [
    {
     "data": {
      "image/png": "[encoded data removed]",
      "text/plain": [
       "<Figure size 432x288 with 1 Axes>"
      ]
     },
     "metadata": {
      "needs_background": "light"
     },
     "output_type": "display_data"
    }
   ],
   "source": [
    "curves=array([loadtxt(fn,skiprows=1,delimiter=',')[:,1] for fn in ['comp_c1.csv','comp_c2.csv','comp_c3.csv','comp_c4.csv']])\n",
    "\n",
    "cToScale,cTarget=curves[1],curves[0]\n",
    "#cToScale,cTarget=curves[1],curves[2]\n",
    "\n",
    "##\n",
    "slope,offset=polyfit(cToScale,cTarget,1)\n",
    "plt.figure()\n",
    "plt.scatter(cToScale,cTarget); x=r_[800,1700]; plt.plot(x,x*slope+offset,c='r',label='y=%.3f*x+%.1f'%(slope,offset))\n",
    "plt.legend(); plt.show()\n"
   ]
  },
  {
   "cell_type": "code",
   "execution_count": 5,
   "metadata": {},
   "outputs": [],
   "source": []
  },
  {
   "cell_type": "code",
   "execution_count": null,
   "metadata": {},
   "outputs": [],
   "source": []
  },
  {
   "cell_type": "code",
   "execution_count": null,
   "metadata": {},
   "outputs": [],
   "source": []
  },
  {
   "cell_type": "code",
   "execution_count": null,
   "metadata": {},
   "outputs": [],
   "source": []
  },
  {
   "cell_type": "code",
   "execution_count": null,
   "metadata": {},
   "outputs": [],
   "source": [
    "im=io.imread('../20220120_neotranscripts_cellline_NG13_FXR1-670_empty-channelCAL610_NG13-570_noDOX_1/20220120_neotranscripts_cellline_NG13_FXR1-670_empty-channelCAL610_NG13-570_noDOX_1_MMStack_Pos00.ome.tif')\n",
    "\n",
    "rawCCM=array(CCMs['o5-CAL610 => o5-Q570']).reshape(4,4)\n",
    "#cooRaw=(lambda y,z,x: array([x,y,z,z*0+1]))(*meshgrid(r_[bbox2[1]:bbox2[3]],r_[:im.shape[0]],r_[bbox2[0]:bbox2[2]]))\n",
    "cooRaw=(lambda y,z,x: array([x,y,z,z*0+1]))(*meshgrid(r_[:2048],r_[:im.shape[0]],r_[:2048]))\n",
    "for i in range(len(rawCCMs)):\n",
    "  imC=im.swapaxes(0,1)[i]\n",
    "  cooCorr=dot(cooRaw.T,scipy.linalg.inv(rawCCMs[i]).T).T[:3][::-1]\n",
    "  imRes[i]=ndimage.interpolation.map_coordinates(imC,cooCorr)\n",
    "\n",
    "\n",
    "#https://docs.scipy.org/doc/scipy-0.14.0/reference/generated/scipy.ndimage.interpolation.affine_transform.html\n"
   ]
  },
  {
   "cell_type": "code",
   "execution_count": 3,
   "metadata": {},
   "outputs": [],
   "source": []
  }
 ],
 "metadata": {
  "kernelspec": {
   "display_name": "Python 3",
   "language": "python",
   "name": "python3"
  },
  "language_info": {
   "codemirror_mode": {
    "name": "ipython",
    "version": 3
   },
   "file_extension": ".py",
   "mimetype": "text/x-python",
   "name": "python",
   "nbconvert_exporter": "python",
   "pygments_lexer": "ipython3",
   "version": "3.8.8"
  }
 },
 "nbformat": 4,
 "nbformat_minor": 2
}
